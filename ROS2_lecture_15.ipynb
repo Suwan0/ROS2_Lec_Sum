{
 "cells": [
  {
   "cell_type": "markdown",
   "metadata": {},
   "source": [
    "# ROS2 Action"
   ]
  },
  {
   "cell_type": "markdown",
   "metadata": {},
   "source": [
    "### Fibonacci Action Client,Server\n",
    "+ Action은 Topic과 Server 두가지 속성을 모두 가지고 있다.\n"
   ]
  },
  {
   "cell_type": "markdown",
   "metadata": {},
   "source": [
    "### ROS2 Action 개념\n",
    "![Action특징](https://puzzling-cashew-c4c.notion.site/image/https%3A%2F%2Fs3-us-west-2.amazonaws.com%2Fsecure.notion-static.com%2F583e145d-cfd1-4d08-96ad-c3d459a79172%2Faction.gif?table=block&id=968a2c49-0190-4e49-9d35-61f6c54ea669&spaceId=5fbee23e-d9ec-4824-b2be-c8716a8602cd&userId=&cache=v2)\n",
    "1. action client는 action server가 response를 보내기 전까지 계속해서 기다리지 않고, 다른 일을 할 수 있다.\n",
    "2. action client은 request를 보낸 뒤에도 지속적으로 feedback을 받을 수 있다.\n",
    "3. feedback을 받고 있다가, 뭔가 잘못 돌아가고 있다는 것을 감지한 경우 cancel을 할 수도 있다. \n",
    "4. 하지만 여러 request를 동시에 작업하는 것은 본질적으로 불가하다. ⇒ 단, 프로그래밍적인 해결이 가능하며, 이에 대해서는 `MultiThreadedExecutor`라는 것을 배우면 해결 할 수 있다."
   ]
  },
  {
   "cell_type": "markdown",
   "metadata": {},
   "source": [
    "### Action예시\n",
    "+ 네비게이션과 비슷하게 동작한다.\n",
    "    + 목적지를 Request받고, 경로 검색을 마치면 안내를 시작하고 중간에 계속 Feedback을 하며 목적지에 도착하면 경로 안내를 종료하고 다음 Request까지 기다린다.\n",
    "    + ROS2에는 자율주행을 위한 Nav2라는 프로젝트가 있는데 여기에 Action의 특성이 반드시 필요함을 알 수 있다.\n",
    "+ Service에는 Request,Response가 있듯이 Action에는 Goal,Feedback,Result 3개의 데이터가 필요하다.\n",
    "    + 여기서의 데이터 타입은 action을 사용한다.\n",
    "    + 각각의 데이터를 구분하기 위해서 Service와 같이 (---)를 통해서 Goal,Result,Feedback을 구분한다.\n",
    "+ int,float 같은 기본 자료형 뿐만 아니라 ROS2에서 제공하는 geometry metrics, nevigattion messages, sensor mesaages같은 ROS2 제공 자료형을 사용하여 직접 action 타입을 만들 수 있다.\n"
   ]
  },
  {
   "cell_type": "markdown",
   "metadata": {},
   "source": [
    "### ROS2 Action Commands\n",
    "+ $ ros2 action list 를 통해서 실행중인 Action들을 확인할 수 있다.\n",
    "+ $ ros2 action info /fibonacci 를 통해서 특정 Action의 정보를 조회할 수 있다.\n",
    "+ $ ros2 interface show custom_interfaces/action/Fibonacci를 통해서 Action이 사용하는 action의 타입의 상세정보를 조회할 수 있다.\n",
    "    + $ros2 interface show는 Topic, Service, Action에서 공통적으로 사용할 수 있는 메커니즘이다.(중요)\n",
    "+ $ ros2 action send_goal <Action-name> <action-type> {actual: value}를 통해서 프로그래밍 없이 Goal Request가 가능하다.\n",
    "    + $ ros2 action send_goal --feedback 을 통해서 Feedback을 받을 수 있다 .\n"
   ]
  },
  {
   "cell_type": "markdown",
   "metadata": {},
   "source": [
    "### Goal Cancel\n",
    "+ Request를 한 후에 Feedback을 받다가 이상이 생기면 Cancel하는 기능을 말한다.\n",
    "+ $ ros2 run py_action_pkg fibonacci_action_server_cancel\n",
    "+ $ ros2 run py_action_pkg fibonacci_action_client_cancel를 통해서 cancel할 수 있다."
   ]
  }
 ],
 "metadata": {
  "kernelspec": {
   "display_name": "Python 3.8.10 64-bit",
   "language": "python",
   "name": "python3"
  },
  "language_info": {
   "name": "python",
   "version": "3.8.10"
  },
  "orig_nbformat": 4,
  "vscode": {
   "interpreter": {
    "hash": "916dbcbb3f70747c44a77c7bcd40155683ae19c65e1c03b4aa3499c5328201f1"
   }
  }
 },
 "nbformat": 4,
 "nbformat_minor": 2
}
