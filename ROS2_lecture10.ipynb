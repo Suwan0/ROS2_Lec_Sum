{
 "cells": [
  {
   "cell_type": "markdown",
   "metadata": {},
   "source": [
    "# Node 프로그래밍(C++)\n",
    "+ C++를 공부해서 들어보는 것을 추천!"
   ]
  },
  {
   "cell_type": "markdown",
   "metadata": {},
   "source": [
    "### 예제 실행\n",
    "\n",
    "<pre>\n",
    "<code>\n",
    "$ ros2 run cpp_first_pkg simple_node\n",
    "[INFO] [1621571601.351868900] [simple_node]: Logger Test\n",
    "\n",
    "$ ros2 run cpp_first_pkg simple_loop_node\n",
    "[INFO] [1621571623.628317300] [simple_loop_node]: Simple Loop Node\n",
    "[INFO] [1621571624.137430000] [simple_loop_node]: Simple Loop Node\n",
    "[INFO] [1621571624.637388900] [simple_loop_node]: Simple Loop Node\n",
    "...\n",
    "\n",
    "$ ros2 run cpp_first_pkg simple_oop_node\n",
    "[INFO] [1621571658.158510000] [simple_oop_node]: I am Simple OOP Example, count : 7340132\n",
    "[INFO] [1621571658.658082100] [simple_oop_node]: I am Simple OOP Example, count : 7340133\n",
    "[INFO] [1621571659.152032000] [simple_oop_node]: I am Simple OOP Example, count : 7340134\n",
    "...\n",
    "\n",
    "$ ros2 run cpp_first_pkg lifecycle_node\n",
    "[WARN] [1621571766.599589500] [simple_oop_node]: Node Constructor\n",
    "[INFO] [1621571767.102470700] [simple_oop_node]: I am Simple OOP Example, count : 1\n",
    "[INFO] [1621571767.600820400] [simple_oop_node]: I am Simple OOP Example, count : 2\n",
    "[INFO] [1621571768.022392500] [rclcpp]: signal_handler(signal_value=2)\n",
    "[INFO] [1621571768.023429800] [simple_oop_node]: ==== Spin Done ====\n",
    "==== After Shutdown ====\n",
    "[WARN] [1621571768.025122300] [simple_oop_node]: Node Destructor\n",
    "\n",
    "</code>\n",
    "</pre>\n",
    "\n",
    "- `simple_node` :  Node의 생성 후 Log를 출력하는 예제이다.\n",
    "- `simple_loop_node` : Node의 생성 후 주기적으로 Log를 출력하는 예제이다.\n",
    "- `simple_oop_node` :  Node Composition을 위한, 그리고 좀 더 유연한 ROS2 프로그래밍을 위해 상속을 통한 Node 생성에 대해 배운다.\n",
    "- `lifecycle_node` : Node가 생성되고 소멸되는 시점과 rclcpp이 시작되고 종료되는 시점, lifecycle에 대해 배운다.\n",
    "- 코드의 위치"
   ]
  },
  {
   "cell_type": "markdown",
   "metadata": {},
   "source": [
    "### Node의 생성\n"
   ]
  }
 ],
 "metadata": {
  "kernelspec": {
   "display_name": "Python 3.8.10 64-bit",
   "language": "python",
   "name": "python3"
  },
  "language_info": {
   "name": "python",
   "version": "3.8.10"
  },
  "orig_nbformat": 4,
  "vscode": {
   "interpreter": {
    "hash": "916dbcbb3f70747c44a77c7bcd40155683ae19c65e1c03b4aa3499c5328201f1"
   }
  }
 },
 "nbformat": 4,
 "nbformat_minor": 2
}
