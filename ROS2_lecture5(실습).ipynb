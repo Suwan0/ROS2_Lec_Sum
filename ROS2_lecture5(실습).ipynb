{
 "cells": [
  {
   "cell_type": "markdown",
   "metadata": {},
   "source": [
    "# 5강 Node, Package와 기본 커멘드 \n",
    "### 노드의 실행\n",
    "+ ros2 run을 통해 단일 Node의 실행 가능 \n",
    "+ $ ros2 run <패키지 이름> <실행 프로그램 이름>\n",
    "\n",
    "    \n"
   ]
  },
  {
   "cell_type": "markdown",
   "metadata": {},
   "source": [
    "### 실행 중인 Node들의 리스트 확인\n",
    "+ $ ros2 launch gcamp_gazebo gcamp_world.launch.py  \n",
    "+  $ ros2 node list 를 통하여 리스트 확인 가능\n",
    "+ 특정 Node의 정보를 살펴보기 위해서는 $ ros2 node info 를 통해 알 수 있다.\n",
    "+ 위의 정보를 통해 각 Node가 Topic,Service,Action,Parameters의 수단들을 통해 다른 Node들과 주고받은 데이터를 알 수 있다.\n"
   ]
  },
  {
   "cell_type": "markdown",
   "metadata": {},
   "source": [
    "+  ros2 node info /skidbot/teleop_twist_keyboard\n",
    "/skidbot/teleop_twist_keyboard  \n",
    " 의 코드를 통해서  \n",
    "  Subscribers:  \n",
    "\n",
    "  Publishers:  \n",
    "    /parameter_events: rcl_interfaces/msg/ParameterEvent  \n",
    "    /rosout: rcl_interfaces/msg/Log  \n",
    "    /skidbot/cmd_vel: geometry_msgs/msg/Twist  \n",
    "  Service Servers:  \n",
    "    /skidbot/teleop_twist_keyboard/describe_parameters: rcl_interfaces/srv/DescribeParameters  \n",
    "    /skidbot/teleop_twist_keyboard/get_parameter_types: rcl_interfaces/srv/GetParameterTypes  \n",
    "    /skidbot/teleop_twist_keyboard/get_parameters: rcl_interfaces/srv/GetParameters  \n",
    "    /skidbot/teleop_twist_keyboard/list_parameters: rcl_interfaces/srv/ListParameters  \n",
    "    /skidbot/teleop_twist_keyboard/set_parameters: rcl_interfaces/srv/SetParameters  \n",
    "    /skidbot/teleop_twist_keyboard/set_parameters_atomically: rcl_interfaces/srv/  SetParametersAtomically  \n",
    "  Service Clients:  \n",
    "  \n",
    "  Action Servers:  \n",
    "  \n",
    "  Action Clients:  \n",
    " 의 정보를 알 수 있다."
   ]
  },
  {
   "cell_type": "markdown",
   "metadata": {},
   "source": [
    "### 여러 문장으로 나와있는 것을 ROS에서는 시각화 툴로 나타내어서 볼 수 있다.\n",
    "\n",
    "+ 그 중에 하나로 Rqt_Graph가 있다.\n",
    "+ Rqt_Graph를 통해서 노드들 간에 데이터가 가고 있는지 쉽게 확인할 수 있다."
   ]
  },
  {
   "cell_type": "markdown",
   "metadata": {},
   "source": [
    "image1"
   ]
  },
  {
   "cell_type": "markdown",
   "metadata": {},
   "source": [
    "### Package\n",
    "+ Ros로 서비스를 만드려고 하면 여러 Package를 조합하여 실제 동작하는 로봇을 만든다.\n",
    "+ 그렇다면 Package란? \n",
    "    + 기능 관점에서는 시뮬레이션, 하드웨어 관련, 모델링, 원격 조종 등으로 분리시킨 모듈\n",
    "    + 파일 관점에서는 관련된 라이브러리, 모델링 파일들, 설정 파일들을 모아둔 폴더\n",
    "    + colcon build가 수행되는 빌드의 단위"
   ]
  },
  {
   "cell_type": "markdown",
   "metadata": {},
   "source": [
    "#### 필요하면 Package를 만들 수 있다\n",
    "+ 파이썬을 이용하여 Package를 만든다면 $ ros2 pkg create --build-type ament_python <패키지이름> --dependencies rclpy <종속성> 를 통해서 만들 수 있다."
   ]
  }
 ],
 "metadata": {
  "language_info": {
   "name": "python"
  },
  "orig_nbformat": 4
 },
 "nbformat": 4,
 "nbformat_minor": 2
}
