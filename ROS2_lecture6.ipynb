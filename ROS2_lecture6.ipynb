{
 "cells": [
  {
   "cell_type": "markdown",
   "metadata": {},
   "source": [
    "# ROS2 Launch, launch file 작성"
   ]
  },
  {
   "cell_type": "markdown",
   "metadata": {},
   "source": [
    "### Launch란? \n",
    "+ 여러 Node들을 한번에 실행 할 수 있는 것이다.\n",
    "+ ros2 launch <패키지 이름> <launch 파일 이름> 의 형태로 launch명령어가 구성이 된다.\n",
    "+ Launch 파일은 <>.launch.py의 형태로 구성이 된다."
   ]
  },
  {
   "cell_type": "markdown",
   "metadata": {},
   "source": [
    "+ ExecuteProcess(  \n",
    "                cmd=[\"gazebo\", \"--verbose\", world, \"-s\", \"libgazebo_ros_factory.so\"],  \n",
    "                output=\"screen\",  \n",
    "            ),  \n",
    "            # tell gazebo to spwan your robot in the world by calling service  \n",
    "            ExecuteProcess(  \n",
    "                cmd=[ \"ros2\", \"service\", \"call\", \"/spawn_entity\", \"gazebo_msgs/SpawnEntity\",   spwan_args ],  \n",
    "                output=\"screen\",  \n",
    "            ),  \n",
    "            ExecuteProcess(  \n",
    "                cmd=[\"ros2\", \"run\", \"rviz2\", \"rviz2\", \"-d\", rviz],   \n",
    "\t\t\t\t\t\t\t\toutput=\"screen\"  \n",
    "            ),  \n",
    "\n",
    "    - Launch file 의 제일 아랫부분을 보면 위의 ExecuteProcess가 반복되는 것을 볼 수 있는데 이것을 통하여 각 터미널에서 실행시켜야 하는 Process들을 한 파일에 묶어서 한번에 실행시킬 수 있음을 알 수 있다.\n",
    "    - 여러 동작을 개별적으로 실행시킬 수 있지만 modeling file들을 다 직접 적어줘야 실행 가능하다."
   ]
  },
  {
   "cell_type": "markdown",
   "metadata": {},
   "source": [
    "### Launch file을 작성하는 두가지 방법\n",
    "> ExecuteProcess 방식  \n",
    "> Node 방식"
   ]
  },
  {
   "cell_type": "markdown",
   "metadata": {},
   "source": [
    "+ ExecuteProcess 방식\n",
    "   + Luanch file을 만들어서 Process를 실행하는 작업\n",
    "       - $ cd ~/gcamp_ros2_ws/src/gcamp_ros2_basic/gcamp_gazebo/launch  ##작업을 원하는 폴더로 이동\n",
    "       - $ touch first_launch.launch.py  ##touch를 통해 새로운 file을 만듦\n",
    "       - $ gedit first_launch.launch.py  ##gedit을 통해 파일을 열고 수정 또는 삭제를 할 수 있음\n",
    "       - $ cd ~/gcamp_ros2_ws ##ws로 이동\n",
    "       - $ cbp gcamp_gazebo  ##package 실행\n",
    "       - $ ros2 launch gcamp_gazebo first_launch.launch.py ##launch file의 실행\n",
    "   + 문법\n",
    "        - generate_launch_description 모든 laucnch file의 필요조건인 함수이다.(launch file의 진입점을 알리는 함수)\n",
    "        - LaunchDescription은 Return 타입이다. List구조로 어떤 Node들을 실행시킬 건지 알려준다.\n",
    "        - ExecuteProcess는 프로세스를 하나 실행시킨다는 개념이다. 여러 개를 이용해 여러 프로세스를 실행시킬 수 있다.\n",
    "        - cmd는 터미널에서 입력하는 커멘드를 그대로 실행하고자 할 때 사용한다. 입력은 list형태이고 space로 나눠주면 된다.\n",
    "        - output는 Error log 등의 output이 출력되는 수단을 입력한다."
   ]
  },
  {
   "cell_type": "markdown",
   "metadata": {},
   "source": [
    "+ Node 방식\n",
    "    + 실행 코드를 여러개의 터미널을 이용하여 실행했는데 이 여러 Node를 launch file로 만드는 방법이다.\n",
    "        + $ rosfoxy\n",
    "        + $ ros2 run turtlesim turtlesim_node\n",
    "        + $ ros2 run turtlesim draw_square\n",
    "        + 실행 코드를 여러개의 터미널을 이용하여 실행했는데 이 여러 Node를 launch file로 만드는 방법이다.\n",
    "    +     \n",
    "    + 위의 ExecuteProcess와 같은 방식으로 Luanchfile을 만들어서 실행한다.\n",
    "        + $ cd ~/gcamp_ros2_ws/src/gcamp_ros2_basic/gcamp_gazebo/launch\n",
    "        + $ touch second_launch.launch.py\n",
    "        + $ gedit second_launch.launch.py\n",
    "        + $ cd ~/gcamp_ros2_ws\n",
    "        + $ cbp gcamp_gazebo\n",
    "        + $ ros2 launch gcamp_gazebo second_launch.launch.py\n",
    "    + 문법\n",
    "        + Node는 Node 하나를 실행시킬 수 있는 옵션이다.\n",
    "        + package는 실행시킬 Node가 포함된 package를 선택해준다.\n",
    "        + executable는 c++ Node의 경우 colcon build를 하면 실행 가능한 프로그램이 생성되고 python의 경우도 추가 작업이 필요하다.\n",
    "        + parameters는 실행시킬 Node의 추가 매개변수가 있다면 여기 추가된다.\n",
    "        + arguments, name, remappings등의 옵션도 있다.\n",
    "        + 이렇게 Node를 사용하면 LaunchDescription안이 간결해진다.\n",
    "        + yml과 yaml파일은 여러가지 환경 변수들과 parameter 값을 적어놓은 파일이다. 이것을 통해 모듈화 해놓으면 다른 프로젝트에서도 사용할 수 있다.\n",
    "            \n",
    "            \n",
    "        "
   ]
  },
  {
   "cell_type": "markdown",
   "metadata": {},
   "source": [
    "### ExecuteProcess vs Node \n",
    "+ Node 방식이 프로그램의 방향성에 조금 더 부합할 수 있으나, ExecuteProcess도 알아야한다.\n",
    "+ 파일을 가져오는 위치도 둘이 서로 상이하다.\n",
    "+ 무엇보다 Launch file을 잘 작성해야한다."
   ]
  }
 ],
 "metadata": {
  "language_info": {
   "name": "python"
  },
  "orig_nbformat": 4
 },
 "nbformat": 4,
 "nbformat_minor": 2
}
