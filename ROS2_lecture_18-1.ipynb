{
 "cells": [
  {
   "cell_type": "markdown",
   "metadata": {},
   "source": [
    "# 중간 프로젝트 - Maze World"
   ]
  },
  {
   "cell_type": "markdown",
   "metadata": {},
   "source": [
    "### ROS2 Description\n",
    "+ 지금까지 우리가 사용한 로봇은 skid steering 방식에 벨트를 입힌 탱크 형태의 로봇이다.\n",
    "    + skid steering은 조향할때 장치로 하는 것이 아니라 각 바퀴의 회전수,속도 차이로 방향을 조정하는 시스템이다.\n",
    "+ 이 로봇은 제자리 회전에 취약하므로 differential drive 형태의 로봇을 사용한다.\n",
    "    + skid steering방식은 제자리 회전할 때 앞뒤로 움직이며 회전하는 것을 Gazebo를 통해 확인 가능하다.\n",
    "+ $ ros2 launch gcamp_gazebo skidbot_description.launch.py\n",
    "+ $ ros2 launch gcamp_gazebo diffbot_description.launch.py을 이용하여 Description을 실행한다.\n"
   ]
  },
  {
   "cell_type": "markdown",
   "metadata": {},
   "source": [
    "![Descrpition](https://puzzling-cashew-c4c.notion.site/image/https%3A%2F%2Fs3-us-west-2.amazonaws.com%2Fsecure.notion-static.com%2F2cba4d2d-1166-475a-a03f-5d4a270a917b%2FUntitled.png?table=block&id=75ce0816-549e-457e-ae66-7e35add185bb&spaceId=5fbee23e-d9ec-4824-b2be-c8716a8602cd&width=1840&userId=&cache=v2)"
   ]
  },
  {
   "cell_type": "markdown",
   "metadata": {},
   "source": [
    "![Description](https://puzzling-cashew-c4c.notion.site/image/https%3A%2F%2Fs3-us-west-2.amazonaws.com%2Fsecure.notion-static.com%2F762a481c-6929-47a6-b7d7-61a46553353d%2FUntitled.png?table=block&id=45ab6c78-1113-4659-9aeb-8f51d1160f8e&spaceId=5fbee23e-d9ec-4824-b2be-c8716a8602cd&width=1840&userId=&cache=v2)\n",
    "\n",
    "+ 위의 두 Description을 보면 Skid Steering은 4개의 바퀴가 모두 독립적으로 돌아가고 Differential Drive는 양옆 2개의 바퀴와 전후방 보조바퀴를 가지는 것을 알 수 있다.\n",
    "+ 위의 사진에서 빨간색,초록색,파란색 막대는 ROS2 TF(TransFormation)라고 하고 결합부에서 얼마만큼 이동 했고 얼마만큼 회전을 갖고 있는지 나타내는 도구라고 정의한다.\n",
    "    + 각 파츠들 사이의 변환은 ROS2 TF를 이용하여 할 수 있다.\n",
    "    + TF를 보는 가장 쉬운 방법은 Rviz를 이용하는 것이다."
   ]
  },
  {
   "cell_type": "markdown",
   "metadata": {},
   "source": [
    "### Maze Escape 프로젝트 설명\n",
    "+ $ ros2 launch gcamp_gazebo maze_world.launch.py를 이용하여 maze world를 실행한다.\n",
    "![Example](https://puzzling-cashew-c4c.notion.site/image/https%3A%2F%2Fs3-us-west-2.amazonaws.com%2Fsecure.notion-static.com%2F20af1eee-40ac-4005-9658-abbfe49d212a%2FUntitled.png?table=block&id=76c01cc2-0cad-48a9-91a0-3688df3adc6e&spaceId=5fbee23e-d9ec-4824-b2be-c8716a8602cd&width=1840&userId=&cache=v2)\n",
    "+ 미션은 \n",
    "    1. 로봇을 초록 박스가 있는 탈출구까지 이동시켜야 합니다.\n",
    "    2. 로봇은 회전 후 출동 전까지 자동으로 직진하게 되어있습니다.\n",
    "    3. 로봇이 회전하는 방향은 사진과 같습니다.\n",
    "    4. 로봇이 미로를 탈출할 수 있도록 적절한 방향의 조합을 알려주세요!!\n",
    "    으로 이루어진다.\n",
    "+ 미션에서 각 motion을 해내기 위해서 코딩이나 필요한 것들을 설정해야한다.\n",
    "    + Action(지속적으로 로봇의 이동 동향 알려주기),Odom(특정 방향으로 로봇 회전시키기),LaserScan&Twist(충돌 전까지 로봇을 직진시키기),Image(초록 박스를 인식하기)등등\n",
    "\n"
   ]
  },
  {
   "cell_type": "markdown",
   "metadata": {},
   "source": [
    "### image sub\n",
    "+ $ ros2 run image_view image_view --ros-args --remap /image:=/diffbot/camera_sensor/image_raw를 이용하여 로봇 전방에 달린 카메라 영상을 다룰 수 있다.\n",
    "+ ROS2는 이미지를 다루기 위해 msg형식을 갖고있다.\n",
    "    + 이미지를 쓰기 위해서는 ROS2형식으로 바꿔줘야한다.\n",
    "    + 컴퓨터 비전에서 많이 쓰이는 OpenCV형식을 ROS2형식으로 바꾸거나 반대로 해주는 것이 cv_bridge이다.\n",
    "+ cv_bridge를 통해서 image subscriber를 코딩할 수 있다.\n",
    "    + from cv_bridge import(  \n",
    "    CvBridge,  \n",
    "    CvBridgeError,  \n",
    "    ) 를 통해 import한다.\n",
    "+ sensor message의 image형식을 openCV에서 사용하는 image로 바꿔주는 함수가 cv_bridge.imgmsg_to_cv2 sensor message이다.\n",
    "    + openCV에서 image를 다루기 위한 여러 형식들은 rbg, brg, hsv등이 있다."
   ]
  },
  {
   "cell_type": "markdown",
   "metadata": {},
   "source": [
    "### odom sub\n",
    "+ 로봇을 특정한 각도만큼 회전시키는 작업은 gazebo 시뮬레이션에서 로봇의 절대적 위치와 방향이 /odom topic안에 있으므로 이것을 이용하여 수행할 수 있다.\n",
    "    + import cv2   \n",
    "      from nav_msgs.msg import Odometry 를 통해서 import한다.\n",
    "+ odom의 각도 체계는 quaternion(4개의 방향) 으로 되어있으므로 다시금 euler angle로 바꿔줘야 한다. \n",
    "+ $ ros2 run py_action_pkg odome_sub_node를 이용하여 결과를 얻을 수 있다."
   ]
  }
 ],
 "metadata": {
  "kernelspec": {
   "display_name": "Python 3.8.10 64-bit",
   "language": "python",
   "name": "python3"
  },
  "language_info": {
   "name": "python",
   "version": "3.8.10"
  },
  "orig_nbformat": 4,
  "vscode": {
   "interpreter": {
    "hash": "916dbcbb3f70747c44a77c7bcd40155683ae19c65e1c03b4aa3499c5328201f1"
   }
  }
 },
 "nbformat": 4,
 "nbformat_minor": 2
}
