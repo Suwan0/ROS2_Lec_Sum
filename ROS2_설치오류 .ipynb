{
 "cells": [
  {
   "cell_type": "markdown",
   "metadata": {},
   "source": [
    "# 설치하면서 깨달은 점"
   ]
  },
  {
   "cell_type": "markdown",
   "metadata": {},
   "source": [
    "+ 설치하는데 있어서 환경을 모두 잘 맞춰야 한다.(예를 들면 리눅스 or 윈도우 wsl2인지,vs2019,window10,11인지)\n",
    "+ 환경이 조금만 달라도 오류가 날 수 있다.(비슷하기만 하면 되는 거 같다.)\n",
    "+ 우분투에서 실행 코드를 그대로 따라하기만 해봤는데도 컴퓨터 자체에서 오류가 있었다.\n",
    "+ 내 컴퓨터에서는 처음부터 우분투 os가 들어가지지 않고 오류가 났다. 구글링과 교수님의 도움을 받아서 윈도우 11 wsl2 환경에서 해봤지만 중간에 또 오류가 나고 그거 고치는데에만 하루 종일 썼다.\n",
    "+ 지금 듣고 있는 ROS2강의는 우분투 사용자에게 맞춰져 있는데 wsl2환경에서 진행하기에는 초보자라 무리가 있었다고 생각이 든다.\n",
    "+ 우분투 환경에서 해야될 것 같다고 판단하여 오류를 고쳐보려고 하였다.\n"
   ]
  },
  {
   "cell_type": "markdown",
   "metadata": {},
   "source": [
    "### 오류 고치기\n",
    "\n",
    "+ 내게 나타난 오류는  \n",
    "acpi bios error could not resolve symbol:   \n",
    "WARNING: apt does not have a stable CLI interface  \n",
    "이런 것이였다. \n",
    "  \n",
    "+ 구글링을 통해 알아낸 해결 방법은 BIOS를 업데이트 하거나 Bios setup 환경에서 boot option을 이용하는 방법이였다. 이 둘 모두 해봤으나 되지 않았다.\n",
    "---\n",
    "+ 그리고 나서 교수님에게 도움을 요청하여 하나의 os만 사용하는게 편하다고 하여 우분투 os를 지웠다. 그러나 wsl2를 이용하려고 여러 프로그램을 깔았지만 제대로 작동이 되지 않고 오류가 많이 발생하였다.\n"
   ]
  },
  {
   "cell_type": "markdown",
   "metadata": {},
   "source": [
    "+ 결국 우분투 os만 쓰기에는 무리가 있다고 판단해 듀얼 부팅 옵션으로 다시 깔았다.\n",
    "\n",
    "+ 처음에 하드디스크 공간을 할당할 때 25GB로 너무 조금 한 것 같아 이번에는 120GB로 할당하고 다시 실행했더니 지금까지는 오류 없이 잘 되고 있다.\n",
    "\n",
    "\n"
   ]
  },
  {
   "cell_type": "markdown",
   "metadata": {},
   "source": [
    "## 결론 : 초보자에게는 오류를 고치기보다 차라리 os를 다시 까는 게 좋은 방법일 수도 있다."
   ]
  }
 ],
 "metadata": {
  "language_info": {
   "name": "python"
  },
  "orig_nbformat": 4
 },
 "nbformat": 4,
 "nbformat_minor": 2
}
