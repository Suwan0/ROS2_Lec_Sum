{
 "cells": [
  {
   "cell_type": "markdown",
   "metadata": {},
   "source": [
    "# Topic 프로그래밍 - python"
   ]
  },
  {
   "cell_type": "markdown",
   "metadata": {},
   "source": [
    "\n",
    "+ 2D Lidar를 Subscribe하고자 한다.\n",
    "+ 2D Lidar란 빛을 쏴서 그 시간을 측정해 거리를 예측하는 것이다.\n",
    "+ $ ros2 run py_topic_pkg laser_raw_node를 통해서 2D Lidar의 raw데이터들이 나오는 것을 알 수 있다.\n",
    "    + 여기서의 raw데이터들을 읽기 위해서 3차원으로 시각화화여 볼 수 있는 Rviz(Ros visualization)이라는 툴이 있다.\n",
    "------\n",
    "### Subscriber Node 작성\n",
    "<pre>\n",
    "<code>\n",
    "from sensor_msgs.msg import LaserScan\n",
    "\n",
    "class LaserSubscriber(Node):\n",
    "\n",
    "    def __init__(self):\n",
    "        super().__init__(\"laser_sub_node\")\n",
    "        queue_size = 10\n",
    "\t\t\t\tself.subscriber = self.create_subscription(\n",
    "            LaserScan, 'skidbot/scan', self.sub_callback, queue_size\n",
    "        )\n",
    "        self.subscriber # prevent unused variable warning\n",
    "\n",
    "\t\t \n",
    "\t\t\n",
    "    def sub_callback(self, msg):\n",
    "\t\t\t\tself.get_logger().info(f'Raw Laser Data : {msg.ranges}')\n",
    "\n",
    "</code>\n",
    "</pre>\n",
    "+ 이 코드에서 보면 publissher에서와는 다른 LaserScan이라는 message형식을 사용했음을 알 수 있다.\n",
    "+ 위의 class를 분석해보면 topic subscriber를 만들기 위해서는 4개의 매개변수(LaserScan, 'skidbot/scan', self.sub_callback, queue_size)가 필요한 것을 알 수 있다.\n",
    "    + `LaserScan` : Topic 통신에 사용될 Message Type이다.\n",
    "    + `\"skidbot/scan\"` : 데이터를 Subscribe받을 Topic의 이름을 지정한다. \n",
    "    + `self.sub_callback` : callback 함수이다. 무조건 하나의 매개변수(subscriber에 대해 들어온 데이터)가 필요하다.\n",
    "    + `queue_size` : \"대기열의 크기\"이다. \n",
    "        + ROS2에는 데이터를 얼마나 신뢰할 것인지, 쓰고 바로 버릴 것인지, 저장할 것인지 결정하는 option들이 존재하는데 그것에 대한 데이터를 몇개를 보관할 것인지 결정하는 것이 `queue_size` 이다."
   ]
  },
  {
   "cell_type": "markdown",
   "metadata": {},
   "source": [
    "### LaserScan Message\n",
    "+ $ ros2 interface show sensor_msgs/msg/LaserScan나 구글링을 통해 LaserScan Message를 확인할 수 있다.\n",
    "+ 실질적인 Data를 담고 있는 부분은 ranges이며, ranges는 길이 720의 list이다.\n",
    "    + 전방에 180도를 스캔하고 720개의 laser를 흩뿌린다.\n",
    "    + 이것을 통해 전방 물체와의 거리를 알려주는 Subscriber를 만들 수도 있다.\n"
   ]
  },
  {
   "cell_type": "markdown",
   "metadata": {},
   "source": [
    "### Parking Example\n",
    "+ Publsih를 통해서 로봇을 다양한 방향과 속도로 움직일 수 있고, Subscriber를 통해서 전방 물체와의 거리를 알 수 있었다."
   ]
  }
 ],
 "metadata": {
  "kernelspec": {
   "display_name": "Python 3.8.10 64-bit",
   "language": "python",
   "name": "python3"
  },
  "language_info": {
   "name": "python",
   "version": "3.8.10"
  },
  "orig_nbformat": 4,
  "vscode": {
   "interpreter": {
    "hash": "916dbcbb3f70747c44a77c7bcd40155683ae19c65e1c03b4aa3499c5328201f1"
   }
  }
 },
 "nbformat": 4,
 "nbformat_minor": 2
}
