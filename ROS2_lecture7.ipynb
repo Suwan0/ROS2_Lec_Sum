{
 "cells": [
  {
   "cell_type": "markdown",
   "metadata": {},
   "source": [
    "# ROS2 TOPIC\n"
   ]
  },
  {
   "cell_type": "markdown",
   "metadata": {},
   "source": [
    "> Topic이란?  \n",
    "> Topic을 이루는 publisher,subscriber란?"
   ]
  },
  {
   "cell_type": "markdown",
   "metadata": {},
   "source": [
    "+ 예제 실행   \n",
    "     + $ cbp py_topic_pkg를 통해 package를 build한다.\n",
    "     + ros2 run py_topic_pkg cmd_vel_pub_node을 실행시킨다.(py_topic_package에 있는 pub_node를 실행)\n"
   ]
  },
  {
   "cell_type": "markdown",
   "metadata": {},
   "source": [
    "topic image\n",
    "+ /skidbot/cmd_vel의 토픽을 통해서 pub_node가 publisher가 되고 drive_controller가 subscriber가 돼서 로봇이 움직이라는 데이터를 보낸다."
   ]
  },
  {
   "cell_type": "markdown",
   "metadata": {},
   "source": [
    "### ROS2 Topic이란?\n",
    "+ 데이터를 보내는 통신 메커니즘 중 하나이다.\n",
    "+ 여러 노드들 사이에 데이터가 오가는 통로이다.\n",
    "+ 지속적으로 데이터를 보낼 때 사용\n",
    "+ Topic의 구조 \n",
    "     + Topic을 보내는 주체(Publisher) Topic을 받는 주체(Subscriber) 실제의 길(Topic)이고 보내는 데이터를 message라고 한다. \n",
    "+Topic의 형식\n",
    "     + Topic은 1대 다 형식이다."
   ]
  },
  {
   "cell_type": "markdown",
   "metadata": {},
   "source": [
    "#### Topic massage\n",
    "+ Robot에서는 센서 데이터와 제어 데이터 등의 다양한 형태의 데이터가 필요하다. 주로 사용되는 데이터 형식을 message형태로 제공한다.\n",
    "+ Message들을  어떻게 조회하고 프로그래밍하는지 2가지 방법이 있다.\n",
    "     1. 오픈소스 프로젝트를 참고한다.\n",
    "     2. 직접 새로운 메세지를 선언한다.(새로운 센서나 새로운 형태의 로봇)\n",
    "\n"
   ]
  },
  {
   "cell_type": "markdown",
   "metadata": {},
   "source": [
    "#### Message type 살펴보기\n",
    "+ 저번강의 때 $cmd_vel_pub_node가 어떤 message type을 사용했는지 살펴볼 수 있는 방법을 위해 \n",
    "     + $ ros2 run py_topic_pkg endless_cmd_vel_pub_node 계속 publish하는 node를 실행시킨다. \n",
    "          + geometry_msgs/msg/Twist 형식의 message를 publish하고 있는 것을 확인할 수 있다.\n",
    "+ 실행중인 topic 리스트와 특정 topic의 정보를 알고 싶을 때는 $ ros2 topic list와  ros2 topic info /skidbot/cmd_vel를 사용해서 알 수 있다."
   ]
  },
  {
   "cell_type": "markdown",
   "metadata": {},
   "source": [
    "#### Topic command(topic의 정보를 알고 싶을 때)\n",
    "+ 기본적으로 ros와 소통하기 위한 publsiher는 개수로 세지 않고 실질적으로 의미있는 publisher만 개수를 센다.\n",
    "+ gazebo를 실행시키고 $ ros2 topic info /skidbot/cmd_vel를 입력하면 gazebo의 robot이 subscribe을 하고 있기 때문에 subscriber 개수가 하나 늘어난다.\n",
    "\n",
    "#### Topic message(message의 구성을 알고 싶을 때)\n",
    "1. $ ros2 interface show geometry_msgs/msg/Twist를 통해 알 수 있다.\n",
    "2. 구글링을 통해 알 수 있다."
   ]
  },
  {
   "cell_type": "markdown",
   "metadata": {},
   "source": [
    "#### 잘 Pblish되는지 알고 싶을 때\n",
    "+ Rqt_graph를 사용하여 전송되는지 확인할 수 있다.\n",
    "    + 세부적으로 알려면 Rqt를 키고 topic monitor를 통해서 알 수 있지만 빠른 정보가 오가는 것에는 무리가 있다.\n",
    "+ 세부적으로 Publish가 잘 되는지 확인하고 싶을 때는\n",
    "    + $ ros2 topic echo /skidbot/cmd_vel를 통해서 확인할 수 있다."
   ]
  }
 ],
 "metadata": {
  "kernelspec": {
   "display_name": "Python 3.8.10 64-bit",
   "language": "python",
   "name": "python3"
  },
  "language_info": {
   "name": "python",
   "version": "3.8.10"
  },
  "orig_nbformat": 4,
  "vscode": {
   "interpreter": {
    "hash": "916dbcbb3f70747c44a77c7bcd40155683ae19c65e1c03b4aa3499c5328201f1"
   }
  }
 },
 "nbformat": 4,
 "nbformat_minor": 2
}
