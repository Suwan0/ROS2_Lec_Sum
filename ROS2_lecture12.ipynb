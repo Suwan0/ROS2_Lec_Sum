{
 "cells": [
  {
   "cell_type": "markdown",
   "metadata": {},
   "source": [
    "# ROS2 Service\n"
   ]
  },
  {
   "cell_type": "markdown",
   "metadata": {},
   "source": [
    "+ Service 또한 Node간 통신 매커니즘이다.\n"
   ]
  },
  {
   "cell_type": "markdown",
   "metadata": {},
   "source": [
    "### New Robot 예제\n",
    "+ $ cbp py_service_pkg를 실행시켰는데 custom_interfaces가 build되지 않아 colcon build의 오류가 나왔다.\n",
    "    + 이 문제를 해결하기 위해서 $cbp custom_interfaces를 통해 package build를 하고 실행시켰더니 오류가 해결되었다.\n",
    "+  ros2 launch gcamp_gazebo gcamp_world.launch.py를 통해 gazebo를 실행시킨 다음 $ ros2 run py_service_pkg gazebo_model_spawner을 이용하여 본체의 색이 빨간색인 또 다른 로봇이 생성된 것을 볼 수 있다.\n",
    "\n",
    "+ 위의 예제는 gazebo_ros의 Service server에게 새로운 로봇을 등장시켜 달라고 요청한 것이다.\n"
   ]
  },
  {
   "cell_type": "markdown",
   "metadata": {},
   "source": [
    "### ROS2 Service 개념\n",
    "+ 작동원리는 Request Message가 Service Client로부터 Service(Request)를 통해서 Service Server로 가고 다시 Service(Response)를 통해서 Service Client로 가는 방식이다.\n",
    "+ Topic과는 다르게 데이터의 왕복이 이루어진다.\n",
    "+ Server내에 특별한 Logic을 넣을 수 있다.\n",
    "    + ErrorHandling : Request가 잘못 들어왔을 때 exception처리를 한다.\n",
    "    + 내부적으로 계산을 하고 Response에 넘겨주는 Logic이 있다.\n",
    "+ 두개의 Client가 동시에 Request를 하는 경우\n",
    "    + ![동시Request](https://puzzling-cashew-c4c.notion.site/image/https%3A%2F%2Fs3-us-west-2.amazonaws.com%2Fsecure.notion-static.com%2F40d5add4-7b6a-4bd5-a5ea-a357222d7e6b%2Fservice2.gif?table=block&id=fdc13797-b9df-456a-9ec4-cc94eaa378cd&spaceId=5fbee23e-d9ec-4824-b2be-c8716a8602cd&userId=&cache=v2)\n",
    "    + Request를 순차적으로 처리하고 그 동안 다른 Client는 기다린다."
   ]
  },
  {
   "cell_type": "markdown",
   "metadata": {},
   "source": [
    "### Topic과 Service의 차이 \n",
    "|----|Topic|Service|\n",
    "|:---:|:---:|:---:|\n",
    "|Subscribe Node 수|여러개|한개|\n",
    "|Request 동시 처리|여러개|한개|\n",
    "|Publish정도|지속적|1회성|\n",
    "|통신|단방향 통신|상호 통신|\n",
    "\n",
    "+ 분명한 요청의 주체가 있고 빠르게 동작이 완료돼야 하면 Service를 이용하는 것이 좋고, 불특정한 node가 Subscribe의 대상이 되고 지속적으로 데이터 송수신이 일어나는 경우에는 Topic을 이용하는 것이 좋다."
   ]
  },
  {
   "cell_type": "markdown",
   "metadata": {},
   "source": [
    "### ROS2 Service Commands\n",
    "+ $ ros2 service list를 통해서 전체 service list를 확인할 수 있다.\n",
    "    + $ ros2 service list | grep [찾고싶은것]을 통해서 찾고 싶은 list를 검색할 수 있다.\n"
   ]
  },
  {
   "cell_type": "markdown",
   "metadata": {},
   "source": [
    "### Service srv\n",
    "+ Service의 데이터 타입은 srv이다.\n",
    "    + $ ros2 service type /spawn_entity를 통해 어떤 srv 타입을 사용하는지 알 수 있다.(Service를 통해서 srv파일을 찾는 것이다.)\n",
    "    + $ ros2 service find gazebo_msgs/srv/[특정srv]를 통해서 특정 srv 타입을 사용하는 service를 찾을 수 있다.(srv를 통해서 service를 찾는 것이다.)\n",
    "+ $ ros2 interface show gazebo_msgs/srv/SpawnEntity를 통해 srv의 내부 정보를 볼 수 있다.\n",
    "    + uint32 time_duration  \n",
    "      float64 angular_vel_z  \n",
    "      float64 linear_vel_x  \n",
    "      (---)  \n",
    "      bool success  으로 나오는데 ---위에는 request에 해당하고 밑에는 response에 해당한다.\n",
    "    + uint32, float64, bool, string과 같이 프로그래밍 언어에서 이미 익숙한 자료형을 쓸 수도 있고, ROS 2에서 기본 제공하는 geometry_msgs, sensor_msgs와 같은 자료형도 사용이 가능하다.\n",
    "    "
   ]
  },
  {
   "cell_type": "markdown",
   "metadata": {},
   "source": [
    "### Service  Call Command\n",
    "+ Server에게 request를 요청하는 것을 call이라고 한다.\n",
    "    + ros2 service call <service 이름> <srv 타입> '<srv 내용>'을 통해서 request를 할 수 있다."
   ]
  },
  {
   "cell_type": "markdown",
   "metadata": {},
   "source": [
    "### Entry Point\n",
    "+ python.py만 만든다고 해서 실행시킬 수 없다. Entry point를 잡아줘야하는데 이 방법은 python package안 setup.py file 안에 entry point가 있는데 <ros2 run 시 실행시킬 이름> = <패키지 이름>. <파일 이름>: <파일에서의 진입점 - 보통 main>를 통해서 entry point를 추가해주고 나서 cbp를 하면 ros2 run을 통해 만든 Node를 실행할 수 있다.\n",
    "    + 개발시에\n",
    "        - 소스 파일이 있는가?\n",
    "        - setup.py는 수정하였는가?\n",
    "        - 적절한 launch file을 작성하였는가?\n",
    "        - 프로젝트 종속성마다의 각종 설정들을 항상 확인해야 한다."
   ]
  }
 ],
 "metadata": {
  "kernelspec": {
   "display_name": "Python 3.8.10 64-bit",
   "language": "python",
   "name": "python3"
  },
  "language_info": {
   "name": "python",
   "version": "3.8.10"
  },
  "orig_nbformat": 4,
  "vscode": {
   "interpreter": {
    "hash": "916dbcbb3f70747c44a77c7bcd40155683ae19c65e1c03b4aa3499c5328201f1"
   }
  }
 },
 "nbformat": 4,
 "nbformat_minor": 2
}
